{
 "cells": [
  {
   "cell_type": "code",
   "execution_count": 3,
   "metadata": {},
   "outputs": [],
   "source": [
    "from detect import low_level,get_boxes\n",
    "\n",
    "\n",
    "import os\n",
    "if not os.path.exists(\"static/imgs/mora/\"):\n",
    "    os.makedirs(\"static/imgs/mora/\")\n",
    "    \n",
    "    \n",
    "low_level(\"mora_spec.png\",\"mora_impl.png\",\"mora\")\n",
    "\n",
    "cajas = get_boxes(\"mora_spec.png\",\"mora\",\"spec\")"
   ]
  },
  {
   "cell_type": "code",
   "execution_count": null,
   "metadata": {},
   "outputs": [],
   "source": []
  }
 ],
 "metadata": {
  "kernelspec": {
   "display_name": "Python 3",
   "language": "python",
   "name": "python3"
  },
  "language_info": {
   "codemirror_mode": {
    "name": "ipython",
    "version": 3
   },
   "file_extension": ".py",
   "mimetype": "text/x-python",
   "name": "python",
   "nbconvert_exporter": "python",
   "pygments_lexer": "ipython3",
   "version": "3.7.4"
  }
 },
 "nbformat": 4,
 "nbformat_minor": 2
}
